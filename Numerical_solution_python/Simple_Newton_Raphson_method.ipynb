{
 "cells": [
  {
   "cell_type": "markdown",
   "metadata": {},
   "source": [
    "## How to use Newton-Raphson method solving simple equation\n",
    "Example:\n",
    "\n",
    "$$ 2x^3 - 9.5x + 7.5 = 0 $$"
   ]
  },
  {
   "cell_type": "markdown",
   "metadata": {},
   "source": [
    "### step1: Define the function"
   ]
  },
  {
   "cell_type": "code",
   "execution_count": 17,
   "metadata": {},
   "outputs": [],
   "source": [
    "def nrmethod(fn, x, tol, maxiter):\n",
    "    for i in range(maxiter):\n",
    "        x_new = x - fn[0](x)/fn[1](x)\n",
    "        if abs(x_new - x) < tol:\n",
    "            break\n",
    "        x = x_new\n",
    "    return x_new, i"
   ]
  },
  {
   "cell_type": "markdown",
   "metadata": {},
   "source": [
    "### step2 put the problem"
   ]
  },
  {
   "cell_type": "code",
   "execution_count": 18,
   "metadata": {},
   "outputs": [
    {
     "name": "stdout",
     "output_type": "stream",
     "text": [
      "The root is 1.500 at 7 steps\n"
     ]
    }
   ],
   "source": [
    "y = [lambda x: 2*x**3 - 9.5*x + 7.5, lambda x: 6*x**2 - 9.5]\n",
    "# print(nrmethod(y, 5, 0.0001, 100))\n",
    "x, n = nrmethod(y, 5, 0.0001, 100)\n",
    "print('The root is %.3f at %d steps' %(x, n))"
   ]
  }
 ],
 "metadata": {
  "kernelspec": {
   "display_name": "Python 3",
   "language": "python",
   "name": "python3"
  },
  "language_info": {
   "codemirror_mode": {
    "name": "ipython",
    "version": 3
   },
   "file_extension": ".py",
   "mimetype": "text/x-python",
   "name": "python",
   "nbconvert_exporter": "python",
   "pygments_lexer": "ipython3",
   "version": "3.8.2"
  }
 },
 "nbformat": 4,
 "nbformat_minor": 4
}
