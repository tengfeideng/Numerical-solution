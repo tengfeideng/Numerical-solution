{
 "cells": [
  {
   "cell_type": "code",
   "execution_count": 1,
   "metadata": {},
   "outputs": [
    {
     "name": "stdout",
     "output_type": "stream",
     "text": [
      "Using matplotlib backend: GTK3Agg\n",
      "Populating the interactive namespace from numpy and matplotlib\n"
     ]
    }
   ],
   "source": [
    "from matplotlib import pyplot as plt\n",
    "from matplotlib import animation\n",
    "import numpy as np\n",
    "%pylab\n",
    "\n",
    "\n",
    "\n",
    "def randn_point():\n",
    "    # 产生随机散点图的x和y数据\n",
    "    x=np.random.randint(1,100,3)\n",
    "    y=np.random.randint(1,2,3)\n",
    "    return x,y\n",
    "\n",
    "# 创建画布，包含2个子图\n",
    "fig = plt.figure(figsize=(15, 5))\n",
    "ax1 = fig.add_subplot(2, 1, 1)\n",
    "ax2 = fig.add_subplot(2, 1, 2)\n",
    "\n",
    "# 先绘制初始图形，每个子图包含1个正弦波和三个点的散点图\n",
    "x = np.arange(0, 10*np.pi, 0.01)\n",
    "\n",
    "line1, = ax1.plot(x, np.sin(x)) # 正弦波\n",
    "x1,y1=randn_point()\n",
    "sca1 = ax1.scatter(x1,y1)   # 散点图\n",
    "\n",
    "line2, = ax2.plot(x, np.cos(x))  # 余弦波\n",
    "x2,y2=randn_point()\n",
    "sca2 = ax2.scatter(x2,y2)   # 散点图\n",
    "\n",
    "def init():\n",
    "    # 构造开始帧函数init\n",
    "    # 改变y轴数据，x轴不需要改\n",
    "    line1.set_ydata(np.sin(x))\n",
    "    line1.set_ydata(np.cos(x))\n",
    "    # 改变散点图数据\n",
    "    x1, y1 = randn_point()\n",
    "    x2, y2 = randn_point()\n",
    "    data1 = [[x,y] for x,y in zip(x1,y1)]\n",
    "    data2 = [[x, y] for x, y in zip(x2, y2)]\n",
    "    sca1.set_offsets(data1)  # 散点图\n",
    "    sca2.set_offsets(data2)  # 散点图\n",
    "    label = 'timestep {0}'.format(0)\n",
    "    ax1.set_xlabel(label)\n",
    "    return line1,line2,sca1,sca2,ax1  # 注意返回值，我们要更新的就是这些数据\n",
    "\n",
    "def animate(i):\n",
    "    # 接着，构造自定义动画函数animate，用来更新每一帧上各个x对应的y坐标值，参数表示第i帧\n",
    "    # plt.cla() 这个函数很有用，先记着它\n",
    "    line1.set_ydata(np.sin(x + i/10.0))\n",
    "    line2.set_ydata(np.cos(x + i / 10.0))\n",
    "    x1, y1 = randn_point()\n",
    "    x2, y2 = randn_point()\n",
    "    data1 = [[x,y] for x,y in zip(x1,y1)]\n",
    "    data2 = [[x, y] for x, y in zip(x2, y2)]\n",
    "    sca1.set_offsets(data1)  # 散点图\n",
    "    sca2.set_offsets(data2)  # 散点图\n",
    "    label = 'timestep {0}'.format(i)\n",
    "    ax1.set_xlabel(label)\n",
    "    return line1,line2,sca1,sca2,ax1\n",
    "\n",
    "\n",
    "# 接下来，我们调用FuncAnimation函数生成动画。参数说明：\n",
    "# fig 进行动画绘制的figure\n",
    "# func 自定义动画函数，即传入刚定义的函数animate\n",
    "# frames 动画长度，一次循环包含的帧数\n",
    "# init_func 自定义开始帧，即传入刚定义的函数init\n",
    "# interval 更新频率，以ms计\n",
    "# blit 选择更新所有点，还是仅更新产生变化的点。应选择True，但mac用户请选择False，否则无法显示动画\n",
    "\n",
    "ani = animation.FuncAnimation(fig=fig,\n",
    "                              func=animate,\n",
    "                              frames=100,\n",
    "                              init_func=init,\n",
    "                              interval=20,\n",
    "                              blit=True)\n",
    "plt.show()"
   ]
  }
 ],
 "metadata": {
  "kernelspec": {
   "display_name": "Python 3",
   "language": "python",
   "name": "python3"
  },
  "language_info": {
   "codemirror_mode": {
    "name": "ipython",
    "version": 3
   },
   "file_extension": ".py",
   "mimetype": "text/x-python",
   "name": "python",
   "nbconvert_exporter": "python",
   "pygments_lexer": "ipython3",
   "version": "3.6.9"
  }
 },
 "nbformat": 4,
 "nbformat_minor": 4
}
